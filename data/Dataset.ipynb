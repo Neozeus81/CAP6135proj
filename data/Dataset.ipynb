{
 "cells": [
  {
   "cell_type": "code",
   "execution_count": 1,
   "id": "d42d121e-44f4-4b70-9a27-68ea29e3dc01",
   "metadata": {},
   "outputs": [],
   "source": [
    "from data import Data\n",
    "\n",
    "\n"
   ]
  },
  {
   "cell_type": "code",
   "execution_count": 2,
   "id": "3b4e3da3-5682-4168-8220-8f51b0066ad7",
   "metadata": {},
   "outputs": [],
   "source": [
    "train = Data(\"KDD_TRAIN\", ['protocol_type', 'service', 'flag']) \n",
    "test = Data(\"KDD_TEST_PLUS\", ['protocol_type', 'service', 'flag'])\n",
    "test_minus = Data(\"KDD_TEST_MINUS\", ['protocol_type', 'service', 'flag'])\n"
   ]
  },
  {
   "cell_type": "code",
   "execution_count": 9,
   "id": "e9287292-37a4-4660-b57b-b1984850a253",
   "metadata": {},
   "outputs": [
    {
     "name": "stdout",
     "output_type": "stream",
     "text": [
      "0         0\n",
      "1         1\n",
      "2         0\n",
      "3         0\n",
      "4         1\n",
      "         ..\n",
      "125967    1\n",
      "125968    0\n",
      "125969    0\n",
      "125970    1\n",
      "125971    0\n",
      "Name: atype, Length: 125972, dtype: int64\n"
     ]
    }
   ],
   "source": [
    "df = train.get_label_data(False)\n",
    "print(df)"
   ]
  },
  {
   "cell_type": "code",
   "execution_count": 11,
   "id": "a2a05d3c-00ee-40c5-88dc-8b4d4f33abd1",
   "metadata": {},
   "outputs": [
    {
     "name": "stdout",
     "output_type": "stream",
     "text": [
      "count    125972.000000\n",
      "mean          0.751731\n",
      "std           1.146847\n",
      "min           0.000000\n",
      "25%           0.000000\n",
      "50%           0.000000\n",
      "75%           1.000000\n",
      "max           4.000000\n",
      "Name: atype, dtype: float64\n"
     ]
    }
   ],
   "source": [
    "print(df.describe())"
   ]
  },
  {
   "cell_type": "code",
   "execution_count": null,
   "id": "2e3f89b8-fbf2-4670-be7e-960efae9240a",
   "metadata": {},
   "outputs": [],
   "source": []
  }
 ],
 "metadata": {
  "kernelspec": {
   "display_name": "Python 3 (ipykernel)",
   "language": "python",
   "name": "python3"
  },
  "language_info": {
   "codemirror_mode": {
    "name": "ipython",
    "version": 3
   },
   "file_extension": ".py",
   "mimetype": "text/x-python",
   "name": "python",
   "nbconvert_exporter": "python",
   "pygments_lexer": "ipython3",
   "version": "3.9.6"
  }
 },
 "nbformat": 4,
 "nbformat_minor": 5
}
